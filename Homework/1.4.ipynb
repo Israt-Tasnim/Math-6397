{
  "cells": [
    {
      "cell_type": "code",
      "source": [
        "from google.colab import drive\n",
        "drive.mount ('/content/drive')"
      ],
      "metadata": {
        "colab": {
          "base_uri": "https://localhost:8080/"
        },
        "id": "b3x4XzFjQE18",
        "outputId": "a11be688-a813-48ad-d14d-424987431403"
      },
      "execution_count": 1,
      "outputs": [
        {
          "output_type": "stream",
          "name": "stdout",
          "text": [
            "Mounted at /content/drive\n"
          ]
        }
      ]
    },
    {
      "cell_type": "code",
      "source": [
        "%cd /content/drive/MyDrive/Math 6397/CH01  #change directory"
      ],
      "metadata": {
        "colab": {
          "base_uri": "https://localhost:8080/"
        },
        "id": "NMJ9Xkr8P2dx",
        "outputId": "39e730ad-fa7e-41e6-80e5-0ae8b45555da"
      },
      "execution_count": 2,
      "outputs": [
        {
          "output_type": "stream",
          "name": "stdout",
          "text": [
            "[Errno 2] No such file or directory: '/content/drive/MyDrive/Math 6397/CH01 #change directory'\n",
            "/content\n"
          ]
        }
      ]
    },
    {
      "cell_type": "code",
      "source": [
        "import numpy as np\n",
        "import matplotlib.pyplot as plt\n",
        "\n",
        "A= [ [np.random.normal() for i in range(100)]    for j in range(100) ]\n",
        "A= np.array(A)\n",
        "\n",
        "U, S, VT = np.linalg.svd(A,full_matrices=0)\n",
        "S = np.diag(S)\n",
        "\n",
        "fig1 = plt.figure()\n",
        "ax1 = fig1.add_subplot(121)\n",
        "ax1.semilogy(np.diag(S),'-o',color='k')    #singular value spectra\n",
        "ax2 = fig1.add_subplot(122)\n",
        "ax2.plot(np.cumsum(np.diag(S))/np.sum(np.diag(S)),'-o',color='k')"
      ],
      "metadata": {
        "colab": {
          "base_uri": "https://localhost:8080/",
          "height": 282
        },
        "id": "n6CkQYeZr1Cd",
        "outputId": "33b53470-8221-4db6-cf4c-72731803bc4e"
      },
      "execution_count": 3,
      "outputs": [
        {
          "output_type": "execute_result",
          "data": {
            "text/plain": [
              "[<matplotlib.lines.Line2D at 0x7fccbb71bed0>]"
            ]
          },
          "metadata": {},
          "execution_count": 3
        },
        {
          "output_type": "display_data",
          "data": {
            "text/plain": [
              "<Figure size 432x288 with 2 Axes>"
            ],
            "image/png": "[encoded data removed]"
          },
          "metadata": {
            "needs_background": "light"
          }
        }
      ]
    },
    {
      "cell_type": "code",
      "source": [
        "# distribution of singular values by repeating this 100 times\n",
        "\n",
        "import numpy as np\n",
        "import matplotlib.pyplot as plt\n",
        "\n",
        "\n",
        "for k in range (100):\n",
        "  A = [ [np.random.normal() for i in range(100)]    for j in range(100) ]\n",
        "  A=np.array(A)\n",
        "  U, S, VT = np.linalg.svd(A,full_matrices=0)\n",
        "  S = np.diag(S)\n",
        "  SV=np.ndarray.flatten(S)\n",
        "  #plt.boxplot(S)\n",
        "  #print(S[:,:])\n",
        "  for k in range (1):\n",
        "    data=S\n",
        "  data=[data,S]\n",
        "  #print(S)\n",
        "  plt.boxplot(np.diag(S))"
      ],
      "metadata": {
        "colab": {
          "base_uri": "https://localhost:8080/",
          "height": 265
        },
        "id": "OljrnufUviR0",
        "outputId": "8748b6fe-3f06-4b57-b6e9-cf15d0c43d44"
      },
      "execution_count": 5,
      "outputs": [
        {
          "output_type": "display_data",
          "data": {
            "text/plain": [
              "<Figure size 432x288 with 1 Axes>"
            ],
            "image/png": "[encoded data removed]"
          },
          "metadata": {
            "needs_background": "light"
          }
        }
      ]
    }
  ],
  "metadata": {
    "kernelspec": {
      "display_name": "Python 3",
      "language": "python",
      "name": "python3"
    },
    "language_info": {
      "codemirror_mode": {
        "name": "ipython",
        "version": 3
      },
      "file_extension": ".py",
      "mimetype": "text/x-python",
      "name": "python",
      "nbconvert_exporter": "python",
      "pygments_lexer": "ipython3",
      "version": "3.8.5"
    },
    "colab": {
      "provenance": []
    }
  },
  "nbformat": 4,
  "nbformat_minor": 0
}